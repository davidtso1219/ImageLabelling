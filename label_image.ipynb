{
 "cells": [
  {
   "cell_type": "markdown",
   "metadata": {},
   "source": [
    "## 1. Import Dependencies"
   ]
  },
  {
   "cell_type": "code",
   "execution_count": null,
   "metadata": {},
   "outputs": [],
   "source": [
    "%pip install --upgrade opencv-python\n",
    "%pip install --upgrade pyqt5 lxml"
   ]
  },
  {
   "cell_type": "code",
   "execution_count": 4,
   "metadata": {},
   "outputs": [],
   "source": [
    "import cv2, uuid, os, time, glob"
   ]
  },
  {
   "cell_type": "markdown",
   "metadata": {},
   "source": [
    "## 2. Rename target files\n",
    "\n",
    "1. Check the label is what you want to label your objects\n",
    "2. Check the formats include all formats of pictures you use\n",
    "3. Change `count` to the number of training images you already have"
   ]
  },
  {
   "cell_type": "code",
   "execution_count": 15,
   "metadata": {},
   "outputs": [],
   "source": [
    "TARGET_PATH = os.path.join('target') + os.sep\n",
    "TRAIN_PATH = os.path.join('train') + os.sep\n",
    "TEST_PATH = os.path.join('test') + os.sep"
   ]
  },
  {
   "cell_type": "code",
   "execution_count": 6,
   "metadata": {},
   "outputs": [],
   "source": [
    "label = 'monitor'\n",
    "formats = ['png', 'jpg', 'jpeg']\n",
    "count = 0"
   ]
  },
  {
   "cell_type": "code",
   "execution_count": 7,
   "metadata": {},
   "outputs": [],
   "source": [
    "for f in formats:\n",
    "    images = glob.glob(TARGET_PATH + f'*.{f}')\n",
    "\n",
    "    for img in images:\n",
    "        new_image_path = f\"{TARGET_PATH}{label}_{count}_{uuid.uuid1()}.{f}\"\n",
    "        !mv \"{img}\" \"{new_image_path}\"\n",
    "        count += 1"
   ]
  },
  {
   "cell_type": "markdown",
   "metadata": {},
   "source": [
    "## 3. Image Labeling"
   ]
  },
  {
   "cell_type": "code",
   "execution_count": 8,
   "metadata": {},
   "outputs": [],
   "source": [
    "LABELIMG_PATH = os.path.join('labelimg')"
   ]
  },
  {
   "cell_type": "code",
   "execution_count": 9,
   "metadata": {},
   "outputs": [],
   "source": [
    "if not os.path.exists(LABELIMG_PATH):\n",
    "    !mkdir {LABELIMG_PATH}\n",
    "    !git clone https://github.com/tzutalin/labelImg {LABELIMG_PATH}"
   ]
  },
  {
   "cell_type": "code",
   "execution_count": 10,
   "metadata": {},
   "outputs": [
    {
     "name": "stdout",
     "output_type": "stream",
     "text": [
      "pyrcc5 -o libs/resources.py resources.qrc\n"
     ]
    }
   ],
   "source": [
    "if os.name == 'posix':\n",
    "    !cd {LABELIMG_PATH} && make qt5py3\n",
    "if os.name =='nt':\n",
    "    !cd {LABELIMG_PATH} && pyrcc5 -o libs/resources.py resources.qrc"
   ]
  },
  {
   "cell_type": "code",
   "execution_count": null,
   "metadata": {},
   "outputs": [],
   "source": [
    "!cd {LABELIMG_PATH} && python labelImg.py"
   ]
  },
  {
   "cell_type": "markdown",
   "metadata": {},
   "source": [
    "## 4. Move Pictures And Labels to Train And Test Directories"
   ]
  },
  {
   "cell_type": "code",
   "execution_count": null,
   "metadata": {},
   "outputs": [],
   "source": [
    "TRAINING_PERCENTAGE = 0.7"
   ]
  },
  {
   "cell_type": "code",
   "execution_count": 17,
   "metadata": {},
   "outputs": [],
   "source": [
    "if not os.path.exists(TRAIN_PATH):\n",
    "    !mkdir {TRAIN_PATH}\n",
    "\n",
    "if not os.path.exists(TEST_PATH):\n",
    "    !mkdir {TEST_PATH}"
   ]
  },
  {
   "cell_type": "code",
   "execution_count": 18,
   "metadata": {},
   "outputs": [],
   "source": [
    "training_set = []\n",
    "test_set = []\n",
    "\n",
    "if os.path.exists(TARGET_PATH):\n",
    "    pics = glob.glob(f'{TARGET_PATH}*.jpg')\n",
    "    xmls = glob.glob(f'{TARGET_PATH}*.xml')\n",
    "\n",
    "    num_files = len(pics)\n",
    "    index = int(num_files * TRAINING_PERCENTAGE)\n",
    "\n",
    "    training_set.extend(pics[:index])\n",
    "    training_set.extend(xmls[:index])\n",
    "\n",
    "    test_set.extend(pics[index:])\n",
    "    test_set.extend(xmls[index:])\n",
    "\n",
    "for file in training_set:\n",
    "    !cp {file} {TRAIN_PATH}\n",
    "\n",
    "for file in test_set:\n",
    "    !cp {file} {TEST_PATH}"
   ]
  },
  {
   "cell_type": "markdown",
   "metadata": {},
   "source": [
    "## 5. Feeds Images to Your Model!"
   ]
  }
 ],
 "metadata": {
  "kernelspec": {
   "display_name": "Python 3.9.5 ('.venv': venv)",
   "language": "python",
   "name": "python3"
  },
  "language_info": {
   "codemirror_mode": {
    "name": "ipython",
    "version": 3
   },
   "file_extension": ".py",
   "mimetype": "text/x-python",
   "name": "python",
   "nbconvert_exporter": "python",
   "pygments_lexer": "ipython3",
   "version": "3.9.5"
  },
  "orig_nbformat": 4,
  "vscode": {
   "interpreter": {
    "hash": "5907d754d0101bce5961f6495e9bd07a605ab1031e80ce9bdad57098d314c622"
   }
  }
 },
 "nbformat": 4,
 "nbformat_minor": 2
}
